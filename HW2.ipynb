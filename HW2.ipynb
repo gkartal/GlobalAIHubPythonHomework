{
 "cells": [
  {
   "cell_type": "code",
   "execution_count": 1,
   "metadata": {},
   "outputs": [
    {
     "name": "stdin",
     "output_type": "stream",
     "text": [
      "Enter value for name:  Kevin\n",
      "Enter value for surname:  Parker\n",
      "Enter value for age:  34\n",
      "Enter value for date:  1986\n"
     ]
    },
    {
     "name": "stdout",
     "output_type": "stream",
     "text": [
      "{'name': 'Kevin', 'surname': 'Parker', 'age': '34', 'date': '1986'}\n",
      "You can go out to the street.\n"
     ]
    }
   ],
   "source": [
    "info= (\"name\", \"surname\", \"age\", \"date\")\n",
    "user= {}\n",
    "\n",
    "for i in info:\n",
    "    user[i] = input('Enter value for {}: '.format(i))\n",
    "print(user)\n",
    "\n",
    "\n",
    "if (int(user[\"age\"])< 18):\n",
    "    print(\"You can't go out because it is too dangerous!\")\n",
    "else:\n",
    "    print(\"You can go out to the street.\")"
   ]
  },
  {
   "cell_type": "code",
   "execution_count": null,
   "metadata": {},
   "outputs": [],
   "source": []
  }
 ],
 "metadata": {
  "kernelspec": {
   "display_name": "Python 3",
   "language": "python",
   "name": "python3"
  },
  "language_info": {
   "codemirror_mode": {
    "name": "ipython",
    "version": 3
   },
   "file_extension": ".py",
   "mimetype": "text/x-python",
   "name": "python",
   "nbconvert_exporter": "python",
   "pygments_lexer": "ipython3",
   "version": "3.8.5"
  }
 },
 "nbformat": 4,
 "nbformat_minor": 4
}
