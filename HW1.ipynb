{
 "cells": [
  {
   "cell_type": "code",
   "execution_count": 1,
   "metadata": {},
   "outputs": [
    {
     "name": "stdin",
     "output_type": "stream",
     "text": [
      "What is your name? Rudolf\n"
     ]
    },
    {
     "name": "stdout",
     "output_type": "stream",
     "text": [
      "Your name:Rudolf\n",
      "<class 'str'>\n"
     ]
    }
   ],
   "source": [
    "name= input(\"What is your name?\")\n",
    "print(\"Your name:{}\" .format(name))\n",
    "print(type(name))\n"
   ]
  },
  {
   "cell_type": "code",
   "execution_count": 2,
   "metadata": {},
   "outputs": [
    {
     "name": "stdin",
     "output_type": "stream",
     "text": [
      "What is your fav color? black\n"
     ]
    },
    {
     "name": "stdout",
     "output_type": "stream",
     "text": [
      "My fav color is red and your fav color is black\n",
      "<class 'str'>\n"
     ]
    }
   ],
   "source": [
    "mycolor=\"red\"\n",
    "yourcolor=input(\"What is your fav color?\")\n",
    "#print(\"My fav color:{} and your fav color:{}\" .format(mycolor, yourcolor))\n",
    "print(f'My fav color is {mycolor} and your fav color is {yourcolor}')\n",
    "print(type(yourcolor))"
   ]
  },
  {
   "cell_type": "code",
   "execution_count": 3,
   "metadata": {},
   "outputs": [
    {
     "name": "stdin",
     "output_type": "stream",
     "text": [
      "What is the value of pi? 3.14\n"
     ]
    },
    {
     "name": "stdout",
     "output_type": "stream",
     "text": [
      "Pi:3.14\n",
      "<class 'float'>\n"
     ]
    }
   ],
   "source": [
    "pi= float(input(\"What is the value of pi?\"))\n",
    "print(\"Pi:{}\" .format(pi))\n",
    "print(type(pi))"
   ]
  },
  {
   "cell_type": "code",
   "execution_count": 4,
   "metadata": {},
   "outputs": [
    {
     "name": "stdin",
     "output_type": "stream",
     "text": [
      "How old are you? 72\n"
     ]
    },
    {
     "name": "stdout",
     "output_type": "stream",
     "text": [
      "Your age is 72\n",
      "<class 'int'>\n"
     ]
    }
   ],
   "source": [
    "age=int(input(\"How old are you?\"))\n",
    "print(f'Your age is {age}')\n",
    "print(type(age))"
   ]
  },
  {
   "cell_type": "code",
   "execution_count": 19,
   "metadata": {},
   "outputs": [
    {
     "name": "stdin",
     "output_type": "stream",
     "text": [
      "Enter a number 4\n"
     ]
    },
    {
     "name": "stdout",
     "output_type": "stream",
     "text": [
      "[4, 5, 7, 9]\n",
      "<class 'list'>\n"
     ]
    }
   ],
   "source": [
    "list1= int(input(\"Enter a number\"))\n",
    "list2=[9,5,7]\n",
    "list2.append(list1)\n",
    "list2.sort()\n",
    "print(list2)\n",
    "print(type(list2))"
   ]
  }
 ],
 "metadata": {
  "kernelspec": {
   "display_name": "Python 3",
   "language": "python",
   "name": "python3"
  },
  "language_info": {
   "codemirror_mode": {
    "name": "ipython",
    "version": 3
   },
   "file_extension": ".py",
   "mimetype": "text/x-python",
   "name": "python",
   "nbconvert_exporter": "python",
   "pygments_lexer": "ipython3",
   "version": "3.8.5"
  }
 },
 "nbformat": 4,
 "nbformat_minor": 4
}
