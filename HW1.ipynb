{
 "cells": [
  {
   "cell_type": "code",
   "execution_count": 4,
   "metadata": {},
   "outputs": [
    {
     "name": "stdin",
     "output_type": "stream",
     "text": [
      "What is your name? g\n"
     ]
    },
    {
     "name": "stdout",
     "output_type": "stream",
     "text": [
      "Your name:g\n",
      "<class 'str'>\n"
     ]
    }
   ],
   "source": [
    "name= input(\"What is your name?\")\n",
    "print(\"Your name:{}\" .format(name))\n",
    "print(type(name))\n"
   ]
  },
  {
   "cell_type": "code",
   "execution_count": 8,
   "metadata": {},
   "outputs": [
    {
     "name": "stdin",
     "output_type": "stream",
     "text": [
      "What is your fav color? black\n"
     ]
    },
    {
     "name": "stdout",
     "output_type": "stream",
     "text": [
      "My fav color is red and your fav color is black\n",
      "<class 'str'>\n"
     ]
    }
   ],
   "source": [
    "mycolor=\"red\"\n",
    "yourcolor=input(\"What is your fav color?\")\n",
    "#print(\"My fav color:{} and your fav color:{}\" .format(mycolor, yourcolor))\n",
    "print(f'My fav color is {mycolor} and your fav color is {yourcolor}')\n",
    "print(type(yourcolor))"
   ]
  },
  {
   "cell_type": "code",
   "execution_count": 11,
   "metadata": {},
   "outputs": [
    {
     "name": "stdin",
     "output_type": "stream",
     "text": [
      "What is the value of pi? 5\n"
     ]
    },
    {
     "name": "stdout",
     "output_type": "stream",
     "text": [
      "Pi:5.0\n",
      "<class 'float'>\n"
     ]
    }
   ],
   "source": [
    "pi= float(input(\"What is the value of pi?\"))\n",
    "print(\"Pi:{}\" .format(pi))\n",
    "print(type(pi))"
   ]
  },
  {
   "cell_type": "code",
   "execution_count": 12,
   "metadata": {},
   "outputs": [
    {
     "name": "stdin",
     "output_type": "stream",
     "text": [
      "How old are you? 30\n"
     ]
    },
    {
     "name": "stdout",
     "output_type": "stream",
     "text": [
      "Your age is 30\n",
      "<class 'int'>\n"
     ]
    }
   ],
   "source": [
    "age=int(input(\"How old are you?\"))\n",
    "print(f'Your age is {age}')\n",
    "print(type(age))\n"
   ]
  },
  {
   "cell_type": "code",
   "execution_count": 7,
   "metadata": {},
   "outputs": [
    {
     "name": "stdout",
     "output_type": "stream",
     "text": [
      "[1, 2, 3, 4, 5, 6, 7, 8, 9, 10]\n",
      "<class 'list'>\n"
     ]
    }
   ],
   "source": [
    "list1=[1,3,5,7,9]\n",
    "list2=[2,4,6,8,10]\n",
    "list1.extend(list2)\n",
    "list1.sort()\n",
    "print(list1)\n",
    "print(type(list1))"
   ]
  }
 ],
 "metadata": {
  "kernelspec": {
   "display_name": "Python 3",
   "language": "python",
   "name": "python3"
  },
  "language_info": {
   "codemirror_mode": {
    "name": "ipython",
    "version": 3
   },
   "file_extension": ".py",
   "mimetype": "text/x-python",
   "name": "python",
   "nbconvert_exporter": "python",
   "pygments_lexer": "ipython3",
   "version": "3.8.5"
  }
 },
 "nbformat": 4,
 "nbformat_minor": 4
}
