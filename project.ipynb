{
 "cells": [
  {
   "cell_type": "code",
   "execution_count": 4,
   "metadata": {},
   "outputs": [
    {
     "name": "stdin",
     "output_type": "stream",
     "text": [
      "Enter your name and surname Tame Impala\n"
     ]
    },
    {
     "name": "stdout",
     "output_type": "stream",
     "text": [
      "Welcome Tame Impala\n"
     ]
    }
   ],
   "source": [
    "student= \"pink floyd\" +\",\"+ \"tame impala\" +\",\"+ \"led zeppelin\" + \",\" + \"white snake\"\n",
    "\n",
    "check = False\n",
    "user=[]\n",
    "for x in range(3):\n",
    "    user = input(\"Enter your name and surname\")\n",
    "    \n",
    "    if user.lower() in student.split(','):\n",
    "        print(\"Welcome\", user)\n",
    "        break\n",
    "        \n",
    "    else:\n",
    "        print(\"Incorrect Info.\")\n",
    "        \n",
    "if not check:\n",
    "    if not user.lower() in student.split(','):\n",
    "         print(\"Please try again later.\")"
   ]
  },
  {
   "cell_type": "code",
   "execution_count": 5,
   "metadata": {},
   "outputs": [
    {
     "name": "stdout",
     "output_type": "stream",
     "text": [
      "You can take any of these courses: ['math', 'stat', 'python', 'r', 'ai']\n"
     ]
    }
   ],
   "source": [
    "courses=[\"math\",\"stat\",\"python\",\"r\",\"ai\"]\n",
    "print(\"You can take any of these courses:\",courses)"
   ]
  },
  {
   "cell_type": "code",
   "execution_count": 15,
   "metadata": {},
   "outputs": [
    {
     "name": "stdin",
     "output_type": "stream",
     "text": [
      "How many courses are you going to take? p\n"
     ]
    },
    {
     "name": "stdout",
     "output_type": "stream",
     "text": [
      "The input was not a valid integer.\n"
     ]
    },
    {
     "name": "stdin",
     "output_type": "stream",
     "text": [
      "How many courses are you going to take? 2\n"
     ]
    },
    {
     "name": "stdout",
     "output_type": "stream",
     "text": [
      "You failed in class\n"
     ]
    },
    {
     "name": "stdin",
     "output_type": "stream",
     "text": [
      "How many courses are you going to take? 3\n",
      "Which course are you going to take? math\n",
      "Which course are you going to take? stat\n",
      "Which course are you going to take? R\n"
     ]
    },
    {
     "name": "stdout",
     "output_type": "stream",
     "text": [
      "Your courses are: ['math', 'stat', 'r']\n"
     ]
    }
   ],
   "source": [
    "newlist=[]\n",
    "\n",
    "for i in range(5):\n",
    "    try:\n",
    "        select=int(input(\"How many courses are you going to take?\"))\n",
    "    except ValueError as error:\n",
    "        print(\"The input was not a valid integer.\")\n",
    "        continue\n",
    "        \n",
    "    if select<3 and select> 5:\n",
    "        print('Please enter a value between 3 and 5')\n",
    "        \n",
    "    if 3<= select <= 5:\n",
    "        check = False\n",
    "        \n",
    "        for j in range(select):\n",
    "            choice = input(\"Which course are you going to take?\")\n",
    "            choice = choice.lower()\n",
    "            \n",
    "            if choice in courses:\n",
    "                \n",
    "                if choice in newlist:\n",
    "                    print(\"You have already chosen this course.\")\n",
    "                    \n",
    "                if not choice in newlist:\n",
    "                    newlist.append(choice)\n",
    "                    \n",
    "                \n",
    "            \n",
    "            else:\n",
    "                print(\"Please choose a course from the specified course list!\")\n",
    "                \n",
    "        if len(newlist)!= select:\n",
    "            print(\"Try again!\")\n",
    "            \n",
    "        elif len(newlist)== select:\n",
    "                    print(\"Your courses are:\", newlist)  \n",
    "        check=True\n",
    "        break \n",
    "        \n",
    "    else:\n",
    "        print(\"You failed in class\") "
   ]
  },
  {
   "cell_type": "code",
   "execution_count": 16,
   "metadata": {},
   "outputs": [
    {
     "name": "stdout",
     "output_type": "stream",
     "text": [
      "math\n"
     ]
    }
   ],
   "source": [
    "import random\n",
    "exam = print(random.choice(newlist))"
   ]
  },
  {
   "cell_type": "code",
   "execution_count": 17,
   "metadata": {},
   "outputs": [
    {
     "name": "stdout",
     "output_type": "stream",
     "text": [
      "{'midterm': 61, 'final': 0, 'project': 81}\n"
     ]
    }
   ],
   "source": [
    "grades= {\"midterm\":random.randint(0,100), \"final\":random.randint(0,100), \"project\":random.randint(0,100)}\n",
    "print(grades)\n",
    "percentages= {\"midterm\":.3, \"final\":.5, \"project\":.2}"
   ]
  },
  {
   "cell_type": "code",
   "execution_count": 18,
   "metadata": {},
   "outputs": [
    {
     "data": {
      "text/plain": [
       "{'midterm': 18.3, 'final': 0.0, 'project': 16.2}"
      ]
     },
     "execution_count": 18,
     "metadata": {},
     "output_type": "execute_result"
    }
   ],
   "source": [
    "{k: grades[k]*percentages[k] for k in grades}"
   ]
  },
  {
   "cell_type": "code",
   "execution_count": 19,
   "metadata": {},
   "outputs": [
    {
     "name": "stdout",
     "output_type": "stream",
     "text": [
      "34.5\n"
     ]
    }
   ],
   "source": [
    "grade=sum(grades[k]*percentages[k] for k in grades)\n",
    "print(grade)"
   ]
  },
  {
   "cell_type": "code",
   "execution_count": 20,
   "metadata": {},
   "outputs": [
    {
     "name": "stdout",
     "output_type": "stream",
     "text": [
      "DD PASS\n"
     ]
    }
   ],
   "source": [
    "if 0 < grade <= 30:\n",
    "    print(\"FF FAIL\")\n",
    "elif grade <= 50:\n",
    "    print(\"DD PASS\")\n",
    "elif grade <= 70:\n",
    "    print(\"CC PASS\")\n",
    "elif grade <= 90:\n",
    "    print(\"BB PASS\")\n",
    "else:\n",
    "    print(\"AA PASS\")"
   ]
  }
 ],
 "metadata": {
  "kernelspec": {
   "display_name": "Python 3",
   "language": "python",
   "name": "python3"
  },
  "language_info": {
   "codemirror_mode": {
    "name": "ipython",
    "version": 3
   },
   "file_extension": ".py",
   "mimetype": "text/x-python",
   "name": "python",
   "nbconvert_exporter": "python",
   "pygments_lexer": "ipython3",
   "version": "3.8.5"
  }
 },
 "nbformat": 4,
 "nbformat_minor": 4
}
