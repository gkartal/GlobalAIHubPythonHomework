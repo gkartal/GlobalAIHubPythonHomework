{
 "cells": [
  {
   "cell_type": "code",
   "execution_count": 2,
   "metadata": {},
   "outputs": [
    {
     "name": "stdin",
     "output_type": "stream",
     "text": [
      "Enter  Your name Supertramp\n"
     ]
    },
    {
     "name": "stdout",
     "output_type": "stream",
     "text": [
      "Hi Supertramp , Let's start the game\n",
      "\n",
      " You have 10 attempts to guess the word correctly .\n",
      "__ __ __ __ __ __ __ __ __\n",
      "\n",
      " The word is of 9 letters.\n",
      "Start guessing letters\n"
     ]
    },
    {
     "name": "stdin",
     "output_type": "stream",
     "text": [
      "Guess the  letter a\n"
     ]
    },
    {
     "name": "stdout",
     "output_type": "stream",
     "text": [
      "__ a __ __ __ __ __ __ __\n",
      "You have 9 attempts left\n"
     ]
    },
    {
     "name": "stdin",
     "output_type": "stream",
     "text": [
      "Guess the  letter e\n"
     ]
    },
    {
     "name": "stdout",
     "output_type": "stream",
     "text": [
      "__ a __ __ __ __ e __ __\n",
      "You have 8 attempts left\n"
     ]
    },
    {
     "name": "stdin",
     "output_type": "stream",
     "text": [
      "Guess the  letter i\n"
     ]
    },
    {
     "name": "stdout",
     "output_type": "stream",
     "text": [
      "__ a __ __ i __ e __ __\n",
      "You have 7 attempts left\n"
     ]
    },
    {
     "name": "stdin",
     "output_type": "stream",
     "text": [
      "Guess the  letter m\n"
     ]
    },
    {
     "name": "stdout",
     "output_type": "stream",
     "text": [
      "You Guessed wrong letter\n",
      "__ a __ __ i __ e __ __\n",
      "You have 6 attempts left\n"
     ]
    },
    {
     "name": "stdin",
     "output_type": "stream",
     "text": [
      "Guess the  letter n\n"
     ]
    },
    {
     "name": "stdout",
     "output_type": "stream",
     "text": [
      "__ a __ __ i n e __ __\n",
      "You have 5 attempts left\n"
     ]
    },
    {
     "name": "stdin",
     "output_type": "stream",
     "text": [
      "Guess the  letter p\n"
     ]
    },
    {
     "name": "stdout",
     "output_type": "stream",
     "text": [
      "__ a p p i n e __ __\n",
      "You have 4 attempts left\n"
     ]
    },
    {
     "name": "stdin",
     "output_type": "stream",
     "text": [
      "Guess the  letter k\n"
     ]
    },
    {
     "name": "stdout",
     "output_type": "stream",
     "text": [
      "You Guessed wrong letter\n",
      "__ a p p i n e __ __\n",
      "You have 3 attempts left\n"
     ]
    },
    {
     "name": "stdin",
     "output_type": "stream",
     "text": [
      "Guess the  letter z\n"
     ]
    },
    {
     "name": "stdout",
     "output_type": "stream",
     "text": [
      "You Guessed wrong letter\n",
      "__ a p p i n e __ __\n",
      "You have 2 attempts left\n"
     ]
    },
    {
     "name": "stdin",
     "output_type": "stream",
     "text": [
      "Guess the  letter w\n"
     ]
    },
    {
     "name": "stdout",
     "output_type": "stream",
     "text": [
      "You Guessed wrong letter\n",
      "__ a p p i n e __ __\n",
      "You have 1 attempts left\n"
     ]
    },
    {
     "name": "stdin",
     "output_type": "stream",
     "text": [
      "Guess the  letter g\n"
     ]
    },
    {
     "name": "stdout",
     "output_type": "stream",
     "text": [
      "You Guessed wrong letter\n",
      "__ a p p i n e __ __\n",
      "You have 0 attempts left\n",
      "You lost the game, The original word was happiness\n"
     ]
    }
   ],
   "source": [
    "import random\n",
    "options = [\"serendipity\" , \"coincidence\" , \"happiness\"]\n",
    "word = (random.choice(options))\n",
    "\n",
    "name=input(\"Enter  Your name\")\n",
    "print(f\"Hi {name} , Let's start the game\")\n",
    "print(\"\\n You have 10 attempts to guess the word correctly .\")\n",
    "\n",
    "check = False\n",
    "\n",
    "guess_word = []\n",
    "\n",
    "for i in range(len(word)):\n",
    "    guess_word.append(\"__\")\n",
    "    \n",
    "print(*([i for i in guess_word]))\n",
    "print(f\"\\n The word is of {len(word)} letters.\" +\"\\n\" + \"Start guessing letters\")\n",
    "\n",
    "wrong_guess=[]\n",
    "\n",
    "for x in range(10):\n",
    "    guess_letter = input(\"Guess the  letter\")\n",
    "   \n",
    "    if not guess_letter.isalpha():    #check if guessed_letter is an alphabet\n",
    "        print('Guess only a letter')\n",
    "    \n",
    "    elif(len(guess_letter)>1):        #check if guessed letter length is one or not\n",
    "        print('Guess only one letter...')\n",
    "    \n",
    "    elif(guess_letter in wrong_guess):   #check that letter chosen by user is already guessed or not\n",
    "        print('You have already guessed this letter')\n",
    "      \n",
    "    if guess_letter in word:\n",
    "        for i in range(len(word)):\n",
    "            if word[i] == guess_letter:\n",
    "                guess_word[i]= word[i]\n",
    "    else:\n",
    "        print(\"You Guessed wrong letter\")\n",
    "        wrong_guess.append(guess_letter)\n",
    "       \n",
    "    new_word = [i for i in guess_word]\n",
    "    new_word = \"\".join(new_word)\n",
    "    \n",
    "    if word == new_word :\n",
    "        print('Congrats!!!')\n",
    "        check=True\n",
    "        break\n",
    "\n",
    "    print(*([i for i in guess_word]))\n",
    "    print(f\"You have {9-x} attempts left\")\n",
    "if not check:\n",
    "    if  word!=guess_word:\n",
    "         print(f\"You lost the game, The original word was {word}\")\n",
    "            "
   ]
  }
 ],
 "metadata": {
  "kernelspec": {
   "display_name": "Python 3",
   "language": "python",
   "name": "python3"
  },
  "language_info": {
   "codemirror_mode": {
    "name": "ipython",
    "version": 3
   },
   "file_extension": ".py",
   "mimetype": "text/x-python",
   "name": "python",
   "nbconvert_exporter": "python",
   "pygments_lexer": "ipython3",
   "version": "3.8.5"
  }
 },
 "nbformat": 4,
 "nbformat_minor": 4
}
